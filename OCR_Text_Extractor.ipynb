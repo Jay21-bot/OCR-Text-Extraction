{
  "nbformat": 4,
  "nbformat_minor": 0,
  "metadata": {
    "colab": {
      "provenance": [],
      "authorship_tag": "ABX9TyPdKmL8vhpEYtBhhv/5jF74",
      "include_colab_link": true
    },
    "kernelspec": {
      "name": "python3",
      "display_name": "Python 3"
    },
    "language_info": {
      "name": "python"
    }
  },
  "cells": [
    {
      "cell_type": "markdown",
      "metadata": {
        "id": "view-in-github",
        "colab_type": "text"
      },
      "source": [
        "<a href=\"https://colab.research.google.com/github/Jay21-bot/OCR-Text-Extraction/blob/main/OCR_Text_Extractor.ipynb\" target=\"_parent\"><img src=\"https://colab.research.google.com/assets/colab-badge.svg\" alt=\"Open In Colab\"/></a>"
      ]
    },
    {
      "cell_type": "code",
      "source": [
        "!pip install pytesseract pillow\n",
        "\n"
      ],
      "metadata": {
        "colab": {
          "base_uri": "https://localhost:8080/"
        },
        "id": "PjjqJEZCZtwC",
        "outputId": "dc5a05d0-3301-45cb-f407-794a07bc9a69"
      },
      "execution_count": 26,
      "outputs": [
        {
          "output_type": "stream",
          "name": "stdout",
          "text": [
            "Requirement already satisfied: pytesseract in /usr/local/lib/python3.11/dist-packages (0.3.13)\n",
            "Requirement already satisfied: pillow in /usr/local/lib/python3.11/dist-packages (11.2.1)\n",
            "Requirement already satisfied: packaging>=21.3 in /usr/local/lib/python3.11/dist-packages (from pytesseract) (24.2)\n"
          ]
        }
      ]
    },
    {
      "cell_type": "code",
      "source": [
        "# if you not using google colab than you need to install tesseract in your system"
      ],
      "metadata": {
        "id": "7Z475nfqjJog"
      },
      "execution_count": null,
      "outputs": []
    },
    {
      "cell_type": "code",
      "source": [
        "!tesseract --version\n",
        "\n"
      ],
      "metadata": {
        "colab": {
          "base_uri": "https://localhost:8080/"
        },
        "id": "D754VUYtZtyD",
        "outputId": "03604515-858c-44d0-eaff-8c98d6388bf7"
      },
      "execution_count": 27,
      "outputs": [
        {
          "output_type": "stream",
          "name": "stdout",
          "text": [
            "tesseract 4.1.1\n",
            " leptonica-1.82.0\n",
            "  libgif 5.1.9 : libjpeg 8d (libjpeg-turbo 2.1.1) : libpng 1.6.37 : libtiff 4.3.0 : zlib 1.2.11 : libwebp 1.2.2 : libopenjp2 2.4.0\n",
            " Found AVX2\n",
            " Found AVX\n",
            " Found FMA\n",
            " Found SSE\n",
            " Found libarchive 3.6.0 zlib/1.2.11 liblzma/5.2.5 bz2lib/1.0.8 liblz4/1.9.3 libzstd/1.4.8\n"
          ]
        }
      ]
    },
    {
      "cell_type": "code",
      "source": [
        "from google.colab import files\n",
        "uploaded = files.upload()"
      ],
      "metadata": {
        "colab": {
          "base_uri": "https://localhost:8080/",
          "height": 142
        },
        "id": "p_kQvvXveMrC",
        "outputId": "e3972f5d-c0b9-4c57-b36e-5dc815b80ec2"
      },
      "execution_count": 39,
      "outputs": [
        {
          "output_type": "display_data",
          "data": {
            "text/plain": [
              "<IPython.core.display.HTML object>"
            ],
            "text/html": [
              "\n",
              "     <input type=\"file\" id=\"files-d171f109-60d4-48d4-b696-b97e0e7c8c81\" name=\"files[]\" multiple disabled\n",
              "        style=\"border:none\" />\n",
              "     <output id=\"result-d171f109-60d4-48d4-b696-b97e0e7c8c81\">\n",
              "      Upload widget is only available when the cell has been executed in the\n",
              "      current browser session. Please rerun this cell to enable.\n",
              "      </output>\n",
              "      <script>// Copyright 2017 Google LLC\n",
              "//\n",
              "// Licensed under the Apache License, Version 2.0 (the \"License\");\n",
              "// you may not use this file except in compliance with the License.\n",
              "// You may obtain a copy of the License at\n",
              "//\n",
              "//      http://www.apache.org/licenses/LICENSE-2.0\n",
              "//\n",
              "// Unless required by applicable law or agreed to in writing, software\n",
              "// distributed under the License is distributed on an \"AS IS\" BASIS,\n",
              "// WITHOUT WARRANTIES OR CONDITIONS OF ANY KIND, either express or implied.\n",
              "// See the License for the specific language governing permissions and\n",
              "// limitations under the License.\n",
              "\n",
              "/**\n",
              " * @fileoverview Helpers for google.colab Python module.\n",
              " */\n",
              "(function(scope) {\n",
              "function span(text, styleAttributes = {}) {\n",
              "  const element = document.createElement('span');\n",
              "  element.textContent = text;\n",
              "  for (const key of Object.keys(styleAttributes)) {\n",
              "    element.style[key] = styleAttributes[key];\n",
              "  }\n",
              "  return element;\n",
              "}\n",
              "\n",
              "// Max number of bytes which will be uploaded at a time.\n",
              "const MAX_PAYLOAD_SIZE = 100 * 1024;\n",
              "\n",
              "function _uploadFiles(inputId, outputId) {\n",
              "  const steps = uploadFilesStep(inputId, outputId);\n",
              "  const outputElement = document.getElementById(outputId);\n",
              "  // Cache steps on the outputElement to make it available for the next call\n",
              "  // to uploadFilesContinue from Python.\n",
              "  outputElement.steps = steps;\n",
              "\n",
              "  return _uploadFilesContinue(outputId);\n",
              "}\n",
              "\n",
              "// This is roughly an async generator (not supported in the browser yet),\n",
              "// where there are multiple asynchronous steps and the Python side is going\n",
              "// to poll for completion of each step.\n",
              "// This uses a Promise to block the python side on completion of each step,\n",
              "// then passes the result of the previous step as the input to the next step.\n",
              "function _uploadFilesContinue(outputId) {\n",
              "  const outputElement = document.getElementById(outputId);\n",
              "  const steps = outputElement.steps;\n",
              "\n",
              "  const next = steps.next(outputElement.lastPromiseValue);\n",
              "  return Promise.resolve(next.value.promise).then((value) => {\n",
              "    // Cache the last promise value to make it available to the next\n",
              "    // step of the generator.\n",
              "    outputElement.lastPromiseValue = value;\n",
              "    return next.value.response;\n",
              "  });\n",
              "}\n",
              "\n",
              "/**\n",
              " * Generator function which is called between each async step of the upload\n",
              " * process.\n",
              " * @param {string} inputId Element ID of the input file picker element.\n",
              " * @param {string} outputId Element ID of the output display.\n",
              " * @return {!Iterable<!Object>} Iterable of next steps.\n",
              " */\n",
              "function* uploadFilesStep(inputId, outputId) {\n",
              "  const inputElement = document.getElementById(inputId);\n",
              "  inputElement.disabled = false;\n",
              "\n",
              "  const outputElement = document.getElementById(outputId);\n",
              "  outputElement.innerHTML = '';\n",
              "\n",
              "  const pickedPromise = new Promise((resolve) => {\n",
              "    inputElement.addEventListener('change', (e) => {\n",
              "      resolve(e.target.files);\n",
              "    });\n",
              "  });\n",
              "\n",
              "  const cancel = document.createElement('button');\n",
              "  inputElement.parentElement.appendChild(cancel);\n",
              "  cancel.textContent = 'Cancel upload';\n",
              "  const cancelPromise = new Promise((resolve) => {\n",
              "    cancel.onclick = () => {\n",
              "      resolve(null);\n",
              "    };\n",
              "  });\n",
              "\n",
              "  // Wait for the user to pick the files.\n",
              "  const files = yield {\n",
              "    promise: Promise.race([pickedPromise, cancelPromise]),\n",
              "    response: {\n",
              "      action: 'starting',\n",
              "    }\n",
              "  };\n",
              "\n",
              "  cancel.remove();\n",
              "\n",
              "  // Disable the input element since further picks are not allowed.\n",
              "  inputElement.disabled = true;\n",
              "\n",
              "  if (!files) {\n",
              "    return {\n",
              "      response: {\n",
              "        action: 'complete',\n",
              "      }\n",
              "    };\n",
              "  }\n",
              "\n",
              "  for (const file of files) {\n",
              "    const li = document.createElement('li');\n",
              "    li.append(span(file.name, {fontWeight: 'bold'}));\n",
              "    li.append(span(\n",
              "        `(${file.type || 'n/a'}) - ${file.size} bytes, ` +\n",
              "        `last modified: ${\n",
              "            file.lastModifiedDate ? file.lastModifiedDate.toLocaleDateString() :\n",
              "                                    'n/a'} - `));\n",
              "    const percent = span('0% done');\n",
              "    li.appendChild(percent);\n",
              "\n",
              "    outputElement.appendChild(li);\n",
              "\n",
              "    const fileDataPromise = new Promise((resolve) => {\n",
              "      const reader = new FileReader();\n",
              "      reader.onload = (e) => {\n",
              "        resolve(e.target.result);\n",
              "      };\n",
              "      reader.readAsArrayBuffer(file);\n",
              "    });\n",
              "    // Wait for the data to be ready.\n",
              "    let fileData = yield {\n",
              "      promise: fileDataPromise,\n",
              "      response: {\n",
              "        action: 'continue',\n",
              "      }\n",
              "    };\n",
              "\n",
              "    // Use a chunked sending to avoid message size limits. See b/62115660.\n",
              "    let position = 0;\n",
              "    do {\n",
              "      const length = Math.min(fileData.byteLength - position, MAX_PAYLOAD_SIZE);\n",
              "      const chunk = new Uint8Array(fileData, position, length);\n",
              "      position += length;\n",
              "\n",
              "      const base64 = btoa(String.fromCharCode.apply(null, chunk));\n",
              "      yield {\n",
              "        response: {\n",
              "          action: 'append',\n",
              "          file: file.name,\n",
              "          data: base64,\n",
              "        },\n",
              "      };\n",
              "\n",
              "      let percentDone = fileData.byteLength === 0 ?\n",
              "          100 :\n",
              "          Math.round((position / fileData.byteLength) * 100);\n",
              "      percent.textContent = `${percentDone}% done`;\n",
              "\n",
              "    } while (position < fileData.byteLength);\n",
              "  }\n",
              "\n",
              "  // All done.\n",
              "  yield {\n",
              "    response: {\n",
              "      action: 'complete',\n",
              "    }\n",
              "  };\n",
              "}\n",
              "\n",
              "scope.google = scope.google || {};\n",
              "scope.google.colab = scope.google.colab || {};\n",
              "scope.google.colab._files = {\n",
              "  _uploadFiles,\n",
              "  _uploadFilesContinue,\n",
              "};\n",
              "})(self);\n",
              "</script> "
            ]
          },
          "metadata": {}
        },
        {
          "output_type": "stream",
          "name": "stdout",
          "text": [
            "Saving numbers_gs150.jpg to numbers_gs150 (5).jpg\n",
            "Saving plaid_c150.jpg to plaid_c150 (2).jpg\n",
            "Saving stock_gs200.jpg to stock_gs200 (2).jpg\n"
          ]
        }
      ]
    },
    {
      "cell_type": "code",
      "source": [
        "from PIL import Image, ImageFilter\n",
        "import pytesseract"
      ],
      "metadata": {
        "id": "ZoJ1WEZWZt19"
      },
      "execution_count": 40,
      "outputs": []
    },
    {
      "cell_type": "code",
      "source": [
        "def preprocess_and_extract_text(image_path):\n",
        "    # Open image\n",
        "    image = Image.open(image_path)\n",
        "\n",
        "    # Convert to grayscale\n",
        "    gray = image.convert('L')\n",
        "\n",
        "    # Optional: Apply sharpening filter\n",
        "    sharpened = gray.filter(ImageFilter.SHARPEN)\n",
        "\n",
        "    # OCR on processed image\n",
        "    text = pytesseract.image_to_string(sharpened)\n",
        "\n",
        "    return text.strip()"
      ],
      "metadata": {
        "id": "n1sw9w4Vg5w3"
      },
      "execution_count": 41,
      "outputs": []
    },
    {
      "cell_type": "code",
      "source": [
        "def extract_text_from_image(image_path):\n",
        "    # Open the image file\n",
        "    image = Image.open(image_path)\n",
        "\n",
        "    # Extract text using pytesseract\n",
        "    text = pytesseract.image_to_string(image)\n",
        "\n",
        "    return text.strip()\n"
      ],
      "metadata": {
        "id": "kfdKnKgIZt5p"
      },
      "execution_count": 42,
      "outputs": []
    },
    {
      "cell_type": "code",
      "source": [
        "text = extract_text_from_image('numbers_gs150.jpg')  # Replace with your uploaded file name\n",
        "print(\"Extracted Text:\\n\", text)\n"
      ],
      "metadata": {
        "colab": {
          "base_uri": "https://localhost:8080/"
        },
        "id": "11wuiIgvZuDI",
        "outputId": "b574d9a1-103d-478e-a15a-92279089d619"
      },
      "execution_count": 43,
      "outputs": [
        {
          "output_type": "stream",
          "name": "stdout",
          "text": [
            "Extracted Text:\n",
            " 3.75 miles | 7.5 11.25 15.0\n",
            "30.0 33.75 37.5 41,25\n"
          ]
        }
      ]
    },
    {
      "cell_type": "code",
      "source": [
        "text = preprocess_and_extract_text('numbers_gs150.jpg')  # Replace with your filename\n",
        "print(\"Extracted Text:\\n\", text)\n"
      ],
      "metadata": {
        "colab": {
          "base_uri": "https://localhost:8080/"
        },
        "id": "ziTbpLjVhcV0",
        "outputId": "0113da3c-6d1b-4f9a-88c8-16414e3f5556"
      },
      "execution_count": 44,
      "outputs": [
        {
          "output_type": "stream",
          "name": "stdout",
          "text": [
            "Extracted Text:\n",
            " 3.75 miles | 7.5 11.25 15.0\n",
            "30.0 33.75 37.5 41.25\n",
            "& i 240\n",
            "on 18 AS a\n",
            "| Be cee Z2I5 BE\n",
            "aK ZO 19a 4 1380\n",
            "TAY iit TR onda St\n",
            "FENDA BeS4ssSd <9. 99 v2 [fOrsqror\n",
            "14215.\n",
            "SPOR| Pil? | /OW _ |ArT ete\n",
            "[Bop SPW TE (x7 TOL\n",
            "ust Yr | St 5e SB VOR ug\n",
            "\n",
            " \n",
            "\n",
            " \n",
            "\n",
            "(ZT\n"
          ]
        }
      ]
    },
    {
      "cell_type": "code",
      "source": [
        "def batch_process_images(filenames):\n",
        "    results = {}\n",
        "    for file in filenames:\n",
        "        text = preprocess_and_extract_text(file)\n",
        "        results[file] = text\n",
        "    return results\n"
      ],
      "metadata": {
        "id": "WuIaNJZVZuHH"
      },
      "execution_count": 45,
      "outputs": []
    },
    {
      "cell_type": "code",
      "source": [
        "# filenames is a list of your uploaded file names, e.g.:\n",
        "filenames = list(uploaded.keys())\n",
        "\n",
        "results = batch_process_images(filenames)\n",
        "\n",
        "for file, text in results.items():\n",
        "    print(f\"--- Text from {file} ---\")\n",
        "    print(text)\n",
        "    print()\n"
      ],
      "metadata": {
        "colab": {
          "base_uri": "https://localhost:8080/"
        },
        "id": "-ZZBLjdDZuL4",
        "outputId": "10b608d4-5d2f-4944-f650-90d10e227339"
      },
      "execution_count": 46,
      "outputs": [
        {
          "output_type": "stream",
          "name": "stdout",
          "text": [
            "--- Text from numbers_gs150 (5).jpg ---\n",
            "3.75 miles | 7.5 11.25 15.0\n",
            "30.0 33.75 37.5 41.25\n",
            "& i 240\n",
            "on 18 AS a\n",
            "| Be cee Z2I5 BE\n",
            "aK ZO 19a 4 1380\n",
            "TAY iit TR onda St\n",
            "FENDA BeS4ssSd <9. 99 v2 [fOrsqror\n",
            "14215.\n",
            "SPOR| Pil? | /OW _ |ArT ete\n",
            "[Bop SPW TE (x7 TOL\n",
            "ust Yr | St 5e SB VOR ug\n",
            "\n",
            " \n",
            "\n",
            " \n",
            "\n",
            "(ZT\n",
            "\n",
            "--- Text from plaid_c150 (2).jpg ---\n",
            "F\n",
            "HAT;\n",
            "CENTER\n",
            "FOR THE ‘in historic dowatown Mlbourne\n",
            "\n",
            "January 6-29\n",
            "\n",
            "Fridays & Saturdays at 8 pm\n",
            "Sunday Matinees at 2 pm\n",
            "\n",
            "Tickets: 4\n",
            "$2022 123-8698\n",
            "www.henegar.org coe eee : oi\n",
            "\n",
            "--- Text from stock_gs200 (2).jpg ---\n",
            "Nasdaq & AMEX\n",
            "\n",
            "Stocks in bold rose or fell 5% or more\n",
            "\n",
            "EXT Track your investments with our continuously\n",
            "Lie 8%) @ updated stocks. Visit us on the web at\n",
            "Siu money.usatoday.com\n",
            "\n",
            " \n",
            "\n",
            " \n",
            "\n",
            "Sa-week St-week\n",
            "High Low Stock Last Chonge | High Low Stack Last Change\n",
            "45.71 32,50 Biomet NN —0.42\n",
            "A 2.76 1.20 Biomira 1.46 +0.03\n",
            "9.07 5.13 BioScrip 8.05 +0.24\n",
            "9.19 6.89 ABX Airn 7.52 —0.10 | 68-88 50.65 Blosite ot ae\n",
            "\n",
            "33.25 1240 ACMoore 13:58 —1.57 | 212.25 131.03 BiotechT 204.46. —0.a4\n",
            "31.38 1351 ADA—ES 20.96 8.50 1.40 BirchMtgn 6.52\n",
            "20.14 1288 ADC Tels 23.01 18.21 10.73 Bickbaud 17.90\n",
            "20.40 16.70 ADECD 2732 $273 13.86 BluCoat 41.29\n",
            "16.45 1047 AFC Ents 15.40 44,35 24.15 BlueNile 40.30\n",
            "837 450 ASE Tst 716 26.45 19,91 BobEvn 22.99\n",
            "19.25 1275 ASM Intl 17.65 W594 6.12 Bodisenin 15.45\n",
            "20.92 13.94 ASML Hid 21.24 +0. $21 1-36 Bookham 5.94\n",
            "27.36 16.39 ASVIncs 26.76 +0,14 | 11-80 4.99 Borland 6.68\n",
            "19.82 10.47 ATI Tech 17.89 +0.68 | 31-90 21.10 BostPry 31.18\n",
            "38.62 20.59 ATMI inc 29.95 41.29 | 1862 10.01 BHmint 11.53\n",
            "\n",
            "3 14.68 7.10 Brigexp\n",
            "WM 1676 ATP ORG. 38.40 —o5 | 1hGe mis BRORIREES\n",
            "\n"
          ]
        }
      ]
    },
    {
      "cell_type": "code",
      "source": [],
      "metadata": {
        "id": "45ti1lUJZuiq"
      },
      "execution_count": null,
      "outputs": []
    },
    {
      "cell_type": "code",
      "source": [],
      "metadata": {
        "id": "W2bwOUlQZu3-"
      },
      "execution_count": null,
      "outputs": []
    }
  ]
}